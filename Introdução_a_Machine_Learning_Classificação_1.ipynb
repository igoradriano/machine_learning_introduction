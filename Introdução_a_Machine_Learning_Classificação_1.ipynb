{
  "cells": [
    {
      "cell_type": "markdown",
      "metadata": {
        "id": "IJDpEr_Gnzdo"
      },
      "source": [
        "# **1 - TRAINING DATA**"
      ]
    },
    {
      "cell_type": "code",
      "execution_count": 10,
      "metadata": {
        "id": "XyW9tchw7_pv"
      },
      "outputs": [],
      "source": [
        "# features (1 sim, 0 não)\n",
        "# --------------------------------------------------\n",
        "# Animal   | Pelo longo? | Perna curta? | Faz AuAu?|\n",
        "# Porco    |       0     |       1      |     0    |\n",
        "# Porco    |       0     |       1      |     1    |\n",
        "# Porco    |       1     |       1      |     0    |\n",
        "# Cachorro |       0     |       1      |     1    |\n",
        "# Cachorro |       1     |       0      |     1    |\n",
        "# Cachorro |       1     |       1      |     1    |\n",
        "\n",
        "pig1 = [0, 1, 0]\n",
        "pig2 = [0, 1, 1]\n",
        "pig3 = [1, 1, 0]\n",
        "\n",
        "dog1 = [0, 1, 1]\n",
        "dog2 = [1, 0, 1]\n",
        "dog3 = [1, 1, 1]\n",
        "# f(x) = y ( função de train_x tem que ser igual a train_y)\n",
        "# 1 => porco, 0 => cachorro\n",
        "train_x = [pig1, pig2, pig3, dog1, dog2, dog3]\n",
        "# Classes\n",
        "train_y = [1,1,1,0,0,0]"
      ]
    },
    {
      "cell_type": "markdown",
      "metadata": {
        "id": "HZSiuzXjChfn"
      },
      "source": [
        "# **2 - Importing SKLEARN**"
      ]
    },
    {
      "cell_type": "code",
      "execution_count": 12,
      "metadata": {
        "colab": {
          "base_uri": "https://localhost:8080/"
        },
        "id": "E10_XjpC_LSd",
        "outputId": "228b16af-a4fe-4d67-8791-88b044808028"
      },
      "outputs": [
        {
          "data": {
            "text/plain": [
              "LinearSVC()"
            ]
          },
          "execution_count": 12,
          "metadata": {},
          "output_type": "execute_result"
        }
      ],
      "source": [
        "from sklearn.svm import LinearSVC\n",
        "\n",
        "# Creating the Estimator\n",
        "model = LinearSVC()\n",
        "# Training the Estimator\n",
        "model.fit(train_x, train_y)"
      ]
    },
    {
      "cell_type": "markdown",
      "metadata": {
        "id": "1omAERpMoO3W"
      },
      "source": [
        "# **3 - TEST DATA**"
      ]
    },
    {
      "cell_type": "code",
      "execution_count": 15,
      "metadata": {
        "colab": {
          "base_uri": "https://localhost:8080/"
        },
        "id": "Mwe3NfIHAG04",
        "outputId": "fa8ed320-39ea-4b00-e009-2c2e363344c6"
      },
      "outputs": [
        {
          "data": {
            "text/plain": [
              "array([0])"
            ]
          },
          "execution_count": 15,
          "metadata": {},
          "output_type": "execute_result"
        }
      ],
      "source": [
        "mysterious_animal = [1, 1, 1]\n",
        "model.predict([mysterious_animal]) # result = 0 is dog"
      ]
    },
    {
      "cell_type": "code",
      "execution_count": 20,
      "metadata": {
        "colab": {
          "base_uri": "https://localhost:8080/"
        },
        "id": "I9OBU0fTARnF",
        "outputId": "f22bc7c2-1b66-423f-f58e-2cfb8665300b"
      },
      "outputs": [
        {
          "data": {
            "text/plain": [
              "array([0, 1, 0])"
            ]
          },
          "execution_count": 20,
          "metadata": {},
          "output_type": "execute_result"
        }
      ],
      "source": [
        "mysterious1 = [1, 1, 1] # dog\n",
        "mysterious2 = [1, 1, 0] # pig\n",
        "mysterious3 = [0, 1, 1] # pig\n",
        "\n",
        "# Predictions\n",
        "test_x = [mysterious1, mysterious2, mysterious3]\n",
        "test_y = [0, 1, 1]\n",
        "\n",
        "# Trying to predict with the model\n",
        "model.predict(test_x) # [cachorro, porco, cachorro] -> errou o ultimo"
      ]
    },
    {
      "cell_type": "markdown",
      "metadata": {
        "id": "QZy6IvQqBOef"
      },
      "source": [
        "# **Taxa de acerto**"
      ]
    },
    {
      "cell_type": "code",
      "execution_count": 22,
      "metadata": {
        "colab": {
          "base_uri": "https://localhost:8080/"
        },
        "id": "5aEMl_d_BL8E",
        "outputId": "47ca8436-d85d-4839-ff3c-a34998b93727"
      },
      "outputs": [
        {
          "data": {
            "text/plain": [
              "array([0, 1, 0])"
            ]
          },
          "execution_count": 22,
          "metadata": {},
          "output_type": "execute_result"
        }
      ],
      "source": [
        "predictions = model.predict(test_x)\n",
        "predictions"
      ]
    },
    {
      "cell_type": "code",
      "execution_count": 23,
      "metadata": {
        "colab": {
          "base_uri": "https://localhost:8080/"
        },
        "id": "iHoXyxvlBhht",
        "outputId": "020fa7a3-5538-4568-aa58-eb4a8e33c2d9"
      },
      "outputs": [
        {
          "data": {
            "text/plain": [
              "array([ True,  True, False])"
            ]
          },
          "execution_count": 23,
          "metadata": {},
          "output_type": "execute_result"
        }
      ],
      "source": [
        "predictions == test_y"
      ]
    },
    {
      "cell_type": "code",
      "execution_count": 27,
      "metadata": {
        "colab": {
          "base_uri": "https://localhost:8080/"
        },
        "id": "Lz5IWm2fBntU",
        "outputId": "5ccffde0-27d0-4a87-bd18-8b7c163a9e51"
      },
      "outputs": [
        {
          "name": "stdout",
          "output_type": "stream",
          "text": [
            "2\n",
            "3\n",
            "Taxa de acerto:  66.67 %\n"
          ]
        }
      ],
      "source": [
        "# We can sum the numpy array returned \n",
        "correct = (predictions == test_y).sum()\n",
        "print(correct)\n",
        "total = len(test_x)\n",
        "print(total)\n",
        "hit_rate = correct/total\n",
        "print('Taxa de acerto: ', round(hit_rate * 100,2),'%')"
      ]
    },
    {
      "cell_type": "code",
      "execution_count": 26,
      "metadata": {
        "colab": {
          "base_uri": "https://localhost:8080/"
        },
        "id": "zGRD3zQACkvq",
        "outputId": "5e54022f-fbe9-4c55-c9dc-2451fa5f58b6"
      },
      "outputs": [
        {
          "name": "stdout",
          "output_type": "stream",
          "text": [
            "Taxa de acerto:  66.67 %\n"
          ]
        }
      ],
      "source": [
        "from sklearn.metrics import accuracy_score\n",
        "hit_rate = accuracy_score(test_y, predictions)\n",
        "print('Taxa de acerto: ', round(hit_rate *100,2),'%' )"
      ]
    }
  ],
  "metadata": {
    "colab": {
      "provenance": []
    },
    "kernelspec": {
      "display_name": "Python 3.9.13 ('machine_learning': venv)",
      "language": "python",
      "name": "python3"
    },
    "language_info": {
      "name": "python",
      "version": "3.9.13"
    },
    "vscode": {
      "interpreter": {
        "hash": "f9409f40041c52fc4395f6414f3ee7b9d6c9856b6a4a62b343c7f2d1375db8b6"
      }
    }
  },
  "nbformat": 4,
  "nbformat_minor": 0
}
