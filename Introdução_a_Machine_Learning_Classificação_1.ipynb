{
  "nbformat": 4,
  "nbformat_minor": 0,
  "metadata": {
    "colab": {
      "provenance": []
    },
    "kernelspec": {
      "name": "python3",
      "display_name": "Python 3"
    },
    "language_info": {
      "name": "python"
    }
  },
  "cells": [
    {
      "cell_type": "markdown",
      "metadata": {
        "id": "IJDpEr_Gnzdo"
      },
      "source": [
        "# **1 - DADOS DE TREINAMENTO**"
      ]
    },
    {
      "cell_type": "code",
      "metadata": {
        "id": "XyW9tchw7_pv"
      },
      "source": [
        "# features (1 sim, 0 não)\n",
        "# longo?\n",
        "# perna curta ?\n",
        "# faz auau?\n",
        "porco1 = [0, 1, 0]\n",
        "porco2 = [0, 1, 1]\n",
        "porco3 = [1, 1, 0]\n",
        "\n",
        "cachorro1 = [0, 1, 1]\n",
        "cachorro2 = [1, 0, 1]\n",
        "cachorro3 = [1, 1, 1]\n",
        "# f(x) = y ( função de train_x tem que ser igual a train_y)\n",
        "# 1 => porco, 0 => cachorro\n",
        "train_x = [porco1, porco2, porco3, cachorro1, cachorro2, cachorro3]\n",
        "train_y = [1,1,1,0,0,0]"
      ],
      "execution_count": 2,
      "outputs": []
    },
    {
      "cell_type": "markdown",
      "metadata": {
        "id": "HZSiuzXjChfn"
      },
      "source": [
        "# **2 - Importando SKLEARN**"
      ]
    },
    {
      "cell_type": "code",
      "metadata": {
        "colab": {
          "base_uri": "https://localhost:8080/"
        },
        "id": "E10_XjpC_LSd",
        "outputId": "dbd06d94-c93a-4fc5-ea59-57ac5d3b8ccd"
      },
      "source": [
        "from sklearn.svm import LinearSVC\n",
        "\n",
        "model = LinearSVC()\n",
        "model.fit(train_x, train_y)"
      ],
      "execution_count": 3,
      "outputs": [
        {
          "output_type": "execute_result",
          "data": {
            "text/plain": [
              "LinearSVC()"
            ]
          },
          "metadata": {},
          "execution_count": 3
        }
      ]
    },
    {
      "cell_type": "markdown",
      "metadata": {
        "id": "1omAERpMoO3W"
      },
      "source": [
        "# **3 - DADOS DE TESTE**"
      ]
    },
    {
      "cell_type": "code",
      "metadata": {
        "colab": {
          "base_uri": "https://localhost:8080/"
        },
        "id": "Mwe3NfIHAG04",
        "outputId": "c3d7e050-a5e9-457d-e008-7a4fc194e05f"
      },
      "source": [
        "animal_misterioso = [1, 1, 1]\n",
        "model.predict([animal_misterioso]) # resultado 0 é cachorro"
      ],
      "execution_count": 4,
      "outputs": [
        {
          "output_type": "execute_result",
          "data": {
            "text/plain": [
              "array([0])"
            ]
          },
          "metadata": {},
          "execution_count": 4
        }
      ]
    },
    {
      "cell_type": "code",
      "metadata": {
        "colab": {
          "base_uri": "https://localhost:8080/"
        },
        "id": "I9OBU0fTARnF",
        "outputId": "4d2be5ee-914e-468e-b11f-7daf7c41838d"
      },
      "source": [
        "misterio1 = [1, 1, 1] # cachorro\n",
        "misterio2 = [1, 1, 0] # porco\n",
        "misterio3 = [0, 1, 1] # porco\n",
        "\n",
        "teste_x = [misterio1, misterio2, misterio3]\n",
        "teste_y = [0, 1, 1]\n",
        "model.predict(teste_x) # [cachorro, porco, cachorro] -> errou o ultimo"
      ],
      "execution_count": 5,
      "outputs": [
        {
          "output_type": "execute_result",
          "data": {
            "text/plain": [
              "array([0, 1, 0])"
            ]
          },
          "metadata": {},
          "execution_count": 5
        }
      ]
    },
    {
      "cell_type": "markdown",
      "metadata": {
        "id": "QZy6IvQqBOef"
      },
      "source": [
        "# **Taxa de acerto**"
      ]
    },
    {
      "cell_type": "code",
      "metadata": {
        "colab": {
          "base_uri": "https://localhost:8080/"
        },
        "id": "5aEMl_d_BL8E",
        "outputId": "0acbf11f-d26a-4943-83b4-9d6825684b5b"
      },
      "source": [
        "previsoes = model.predict(teste_x)\n",
        "previsoes"
      ],
      "execution_count": 6,
      "outputs": [
        {
          "output_type": "execute_result",
          "data": {
            "text/plain": [
              "array([0, 1, 0])"
            ]
          },
          "metadata": {},
          "execution_count": 6
        }
      ]
    },
    {
      "cell_type": "code",
      "metadata": {
        "colab": {
          "base_uri": "https://localhost:8080/"
        },
        "id": "iHoXyxvlBhht",
        "outputId": "d7ef8623-4a68-4c9f-a60c-3f951c8f1eea"
      },
      "source": [
        "previsoes == teste_y"
      ],
      "execution_count": 7,
      "outputs": [
        {
          "output_type": "execute_result",
          "data": {
            "text/plain": [
              "array([ True,  True, False])"
            ]
          },
          "metadata": {},
          "execution_count": 7
        }
      ]
    },
    {
      "cell_type": "code",
      "metadata": {
        "colab": {
          "base_uri": "https://localhost:8080/"
        },
        "id": "Lz5IWm2fBntU",
        "outputId": "8f7224c9-e4a9-475b-ce6e-b8c6281c3668"
      },
      "source": [
        "corretos = (previsoes == teste_y).sum()\n",
        "print(corretos)\n",
        "total = len(teste_x)\n",
        "print(total)\n",
        "taxa_de_acerto = corretos/total\n",
        "print('Taxa de acerto: ', round(taxa_de_acerto * 100,2),'%')"
      ],
      "execution_count": 8,
      "outputs": [
        {
          "output_type": "stream",
          "name": "stdout",
          "text": [
            "2\n",
            "3\n",
            "Taxa de acerto:  66.67 %\n"
          ]
        }
      ]
    },
    {
      "cell_type": "code",
      "metadata": {
        "colab": {
          "base_uri": "https://localhost:8080/"
        },
        "id": "zGRD3zQACkvq",
        "outputId": "67eca948-5637-4759-b9b7-7a0c6089d286"
      },
      "source": [
        "from sklearn.metrics import accuracy_score\n",
        "taxa_de_acerto = accuracy_score(teste_y, previsoes)\n",
        "print('Taxa de acerto: ', round(taxa_de_acerto *100,2),'%' )"
      ],
      "execution_count": 9,
      "outputs": [
        {
          "output_type": "stream",
          "name": "stdout",
          "text": [
            "Taxa de acerto:  66.67 %\n"
          ]
        }
      ]
    }
  ]
}